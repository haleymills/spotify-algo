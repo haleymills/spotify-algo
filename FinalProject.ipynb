{
 "cells": [
  {
   "cell_type": "markdown",
   "id": "c2348d90",
   "metadata": {},
   "source": [
    "# Hello! Welcome to my Spotify Playlist Generator.\n",
    "### This application will take your Spotify username and favorite genres of music and curate a playlist perfect for your taste. If you do not have a Spotify, or do not wish to participate, I have left the variables necessary to default to my Spotify account and music preferences.\n",
    "\n",
    "### This application uses the Spotify API, a music.csv file, and a Common Word List txt file to curate the best playlist for your liking. \n",
    "\n",
    "### In the cell below are all of the variables you must fill out if you would like to run this application for yourself. Otherwise, if you choose not to change the variables it will curate a playlist for me - yay!\n",
    "\n",
    "### At this time, the 'playlist' is a list of songs and their artists output to a csv file in your current working directory. The length of the playlists vary based on the genres you listen to, your own Spotify account, etc. How fun!\n",
    "\n",
    "### I hope you enjoy your new playlist (or mine:))!"
   ]
  },
  {
   "cell_type": "code",
   "execution_count": 1,
   "id": "13d7dd05",
   "metadata": {},
   "outputs": [],
   "source": [
    "# Variables necessary to complete this application for yourself.\n",
    "\n",
    "# please enter your Spotify username EXACTLY as it is shown on your profile. If you make an error, the program will not work.\n",
    "SpotifyUsername = 'millshaley'\n",
    "\n",
    "# please enter your three favorite types of music. The options are as shown (you MUST write them directly as shown. You can also\n",
    "# copy and paste them if that makes you more comfortable):\n",
    "# CHOICES FOR FAVORITE TYPES OF MUSIC: 'hip hop', 'dance music', 'alternative rock', 'funk rock', 'indie', 'rock', 'rap'\n",
    "favTypeOfMusic1 = 'alternative rock'\n",
    "favTypeOfMusic2 = 'funk rock'\n",
    "favTypeOfMusic3 = 'indie'\n",
    "\n",
    "# please choose your all time favorite genre of music from the list below. Many of the songs on your playlist will come from\n",
    "# this decision.\n",
    "# CHOICES FOR FAVORITE GENRE: 'hip hop', 'rock', 'indie', 'edm', 'pop'\n",
    "favGenreOfMusic = 'indie'"
   ]
  },
  {
   "cell_type": "code",
   "execution_count": 2,
   "id": "fb587cba",
   "metadata": {},
   "outputs": [
    {
     "data": {
      "text/plain": [
       "'37i9dQZF1DWVTKDs2aOkxu'"
      ]
     },
     "execution_count": 2,
     "metadata": {},
     "output_type": "execute_result"
    }
   ],
   "source": [
    "# set a variable equal to an empty string to populate later with the chosen playlist genre id\n",
    "chosenPlaylistID = ''\n",
    "# these variables are all equal to playlist ids for each of the selected genres.\n",
    "indiePlaylistID = '37i9dQZF1DWVTKDs2aOkxu'\n",
    "rockPlaylistID = '37i9dQZF1DX4DZAVUAwHMT'\n",
    "hiphopPlaylistID = '37i9dQZF1DXbkfWVLd8wE3'\n",
    "edmPlaylistID = '37i9dQZF1DX3Kdv0IChEm9'\n",
    "popPlaylistID = '37i9dQZF1DWSVtp02hITpN'\n",
    "\n",
    "# this if elif else statement is used to determine the chosen playlist id based on the genre that the user selects\n",
    "if favGenreOfMusic == 'indie':\n",
    "    chosenPlaylistID = indiePlaylistID\n",
    "elif favGenreOfMusic == 'rock':\n",
    "    chosenPlaylistID = rockPlaylistID\n",
    "elif favGenreOfMusic == 'hip hop':\n",
    "    chosenPlaylistID = hiphopPlaylistID\n",
    "elif favGenreOfMusic == 'edm':\n",
    "    chosenPlaylistID = edmPlaylistID\n",
    "else:\n",
    "    chosenPlaylistID = popPlaylistID\n",
    "chosenPlaylistID"
   ]
  },
  {
   "cell_type": "markdown",
   "id": "709910bc",
   "metadata": {},
   "source": [
    "# Spotify API pull\n",
    "\n",
    "I used the Spotify for Developers console as an assistant to pulling my requests. The page is found here: https://developer.spotify.com/console/"
   ]
  },
  {
   "cell_type": "code",
   "execution_count": 3,
   "id": "570d7eb5",
   "metadata": {},
   "outputs": [],
   "source": [
    "# these are my spotify api credentials to use to retrieve the tokens for my api requests\n",
    "myKey = '80c2d9fceb8d479fb353d9f62b14533b'\n",
    "myID = 'bb8264b69b1a4234b2c49b9b8772dd7a'"
   ]
  },
  {
   "cell_type": "code",
   "execution_count": 4,
   "id": "fa7883db",
   "metadata": {},
   "outputs": [],
   "source": [
    "# importing requests to be able to make json api requests\n",
    "import requests"
   ]
  },
  {
   "cell_type": "code",
   "execution_count": 5,
   "id": "1ee35fe0",
   "metadata": {},
   "outputs": [],
   "source": [
    "# My knowledge of how the credentials, id, and key work come from this documentation of the Spotify API:\n",
    "# https://stmorse.github.io/journal/spotify-api.html\n",
    "# The POST requests require a body, which is where my credentails, id, and key come into play. The POST request is more secure\n",
    "# than the GET request, therefore this is the form of request I used to get my access token.\n",
    "\n",
    "# setting a variable equal to the authorization URL to be able to get my api access token\n",
    "authURL = 'https://accounts.spotify.com/api/token'\n",
    "\n",
    "# creating a variable equal to the request that will allow me to get my access token using my credentials\n",
    "getToken = requests.post(authURL, {\n",
    "    'grant_type': 'client_credentials',\n",
    "    'client_id': myID,\n",
    "    'client_secret': myKey,\n",
    "}).json()\n",
    "\n",
    "# setting a variable equal to my access token\n",
    "accessToken = getToken['access_token']"
   ]
  },
  {
   "cell_type": "code",
   "execution_count": 6,
   "id": "17519105",
   "metadata": {},
   "outputs": [],
   "source": [
    "# setting headers equal to a dictionary that holds my access token\n",
    "headers = {\n",
    "    'Authorization': 'Bearer {token}'.format(token=accessToken)\n",
    "}"
   ]
  },
  {
   "cell_type": "code",
   "execution_count": 7,
   "id": "75480384",
   "metadata": {},
   "outputs": [],
   "source": [
    "# creating a base url so that I do not have to reenter this in every request I make\n",
    "baseURL = 'https://api.spotify.com/v1/'"
   ]
  },
  {
   "cell_type": "code",
   "execution_count": 8,
   "id": "c3c85b74",
   "metadata": {},
   "outputs": [],
   "source": [
    "# setting a variable equal to the playlists on mine (or the user's) profile\n",
    "myProfile = requests.get(baseURL + 'users/' + SpotifyUsername + '/playlists', headers=headers).json()"
   ]
  },
  {
   "cell_type": "code",
   "execution_count": 9,
   "id": "58316b00",
   "metadata": {},
   "outputs": [],
   "source": [
    "# creating an empty list to append the urls to each of these playlists to the list later\n",
    "allPlaylistURLs = []\n",
    "# creating an empty list to append the artists of each of the songs in the playlist to the list later\n",
    "artName = []\n",
    "# iterating through the playlists in my profile\n",
    "for playlist in myProfile['items']:\n",
    "    # appending the urls to a list\n",
    "    allPlaylistURLs.append(playlist['tracks']['href'])\n",
    "# iterating through the playlist urls \n",
    "for playlist in allPlaylistURLs:\n",
    "    # setting a variable equal to the songs in the playlists\n",
    "    tracks = requests.get(playlist, headers=headers).json()\n",
    "    # iterating through the artists in the tracks\n",
    "    for artist in tracks['items']:\n",
    "        # appending the list of artists to the artName list\n",
    "        artName.append(artist['track'])"
   ]
  },
  {
   "cell_type": "code",
   "execution_count": 10,
   "id": "0ae96c1b",
   "metadata": {},
   "outputs": [],
   "source": [
    "# creating an empty list to append the songs to\n",
    "songList = []\n",
    "# creating an empty list to append the artists to\n",
    "artistList = []\n",
    "# iterating through the artName list\n",
    "for elem in artName:\n",
    "    # finding the elements that do not equal None\n",
    "    if elem != None:\n",
    "        # appending these elements to the songList list\n",
    "        songList.append(elem['artists'])\n",
    "# iterating through the artists in the songList\n",
    "for artist in songList:\n",
    "    # appending the artist ID to the artistList\n",
    "    artistList.append(artist[0]['id'])\n",
    "# removing duplicates from the list by changing it to a set\n",
    "artistList = set(artistList)\n",
    "# setting it back equal to a list to make iterating possible\n",
    "artistList = list(artistList)"
   ]
  },
  {
   "cell_type": "code",
   "execution_count": 11,
   "id": "43a91476",
   "metadata": {},
   "outputs": [],
   "source": [
    "# creating an empty list to populate with related artists to the artists the user already listens to \n",
    "similarArtists = []\n",
    "# iterating through the artistIDs in the artistList\n",
    "for artistID in artistList:\n",
    "    # requesting the related artists through the Spotify API using the artist IDs and appending them to the similarArtists list\n",
    "    similarArtists.append(requests.get(baseURL + 'artists/' + str(artistID) + '/related-artists', headers=headers).json())"
   ]
  },
  {
   "cell_type": "code",
   "execution_count": 12,
   "id": "ef01e0d5",
   "metadata": {},
   "outputs": [],
   "source": [
    "# creating an empty list to populate with the similar artist IDs\n",
    "similarIDs = []\n",
    "# creating an empty list to populate with the similar artist names\n",
    "similarNames = []\n",
    "# iterating through the artists in the similar artists list\n",
    "for artist in similarArtists:\n",
    "    # finding the artists that do not have an error\n",
    "    if artist.keys() != {'error'}:\n",
    "        # finding the artists that do not have an empty list as their values in the key value pair\n",
    "        if artist['artists'] != []:\n",
    "            # appending the ids to the similarIDs list\n",
    "            similarIDs.append(artist['artists'][0]['id'])\n",
    "            # appending the names to the similarNames list\n",
    "            similarNames.append(artist['artists'][0]['name'])"
   ]
  },
  {
   "cell_type": "code",
   "execution_count": 13,
   "id": "9b42f405",
   "metadata": {},
   "outputs": [],
   "source": [
    "# creating an empty list to populate with the top songs from each similar artist\n",
    "topSongsSimilarArtists = []\n",
    "# iterating through the artist IDs in the similarIDs list\n",
    "for artistID in similarIDs:\n",
    "    # requesting the top tracks from those artists and appending them to the topSongsSimilarArtists list\n",
    "    topSongsSimilarArtists.append(requests.get(baseURL + 'artists/' + artistID + '/top-tracks?market=ES', headers=headers).json())\n"
   ]
  },
  {
   "cell_type": "code",
   "execution_count": 14,
   "id": "50d00cfb",
   "metadata": {},
   "outputs": [],
   "source": [
    "# setting the topSongsSimilarArtists list to just the 1st through 24th element to shorten the list of songs to reasonable length\n",
    "topSongsSimilarArtists = topSongsSimilarArtists[1:24]\n",
    "# creating an empty list to populate with the songs for the playlist\n",
    "songsForPlaylist = []\n",
    "# iterating through the artists in topSongsSimilarArtists\n",
    "for artist in topSongsSimilarArtists:\n",
    "    # appending the artists' top tracks to the songsForPlaylist list\n",
    "    songsForPlaylist.append(artist['tracks'])"
   ]
  },
  {
   "cell_type": "code",
   "execution_count": 15,
   "id": "2e8e73eb",
   "metadata": {},
   "outputs": [],
   "source": [
    "# creating an empty list to populate with the names of the songs in the songsForPlaylist list\n",
    "songList = []\n",
    "# creating an empty list to populate with the artists of the songs in the songsForPlaylist list\n",
    "artistNameList = []\n",
    "# creating an empty dictionary to populate with the names and artists of the songs in songsForPlaylist as key/value pairs\n",
    "songAndArtist = {}\n",
    "# iterating through the songs in the songsForPlaylist list\n",
    "for song in songsForPlaylist:\n",
    "    # finding the songs that do not equal an empty list\n",
    "    if song != []:\n",
    "        # appending the song names to the songList list\n",
    "        songList.append(song[0]['name'])\n",
    "        # appending the artist names to the artistNameList\n",
    "        artistNameList.append(song[0]['album']['artists'][0]['name'])\n",
    "        # setting the songAndArtist keys to the names and the values to the artists \n",
    "        songAndArtist[song[0]['name']] = song[0]['album']['artists'][0]['name']"
   ]
  },
  {
   "cell_type": "markdown",
   "id": "eef43f52",
   "metadata": {},
   "source": [
    "# Music.csv pull"
   ]
  },
  {
   "cell_type": "code",
   "execution_count": 16,
   "id": "9babacb7",
   "metadata": {},
   "outputs": [],
   "source": [
    "# music.csv file found here: https://corgis-edu.github.io/corgis/csv/music/\n",
    "\n",
    "# importing pandas to create a df, use the functions, and then use to export csv files\n",
    "import pandas as pd\n",
    "# creating a dataframe equal to reading in the music csv file\n",
    "musicDF = pd.read_csv('music.csv')\n",
    "# setting a new dataframe equal to the original data frame except only pulling artists that fall into the users favorite genres\n",
    "musicDFFixed = musicDF.loc[((musicDF['artist.terms'] == favTypeOfMusic1) | (musicDF['artist.terms'] == favTypeOfMusic2) | (musicDF['artist.terms'] == favTypeOfMusic3))]\n",
    "# setting a variable equal to a set of the dataframe's artist names to get rid of duplicates\n",
    "artistMusic = set(musicDFFixed['artist.name'])\n",
    "# setting it back to a list to make iterating possible\n",
    "artistMusic = list(artistMusic)"
   ]
  },
  {
   "cell_type": "code",
   "execution_count": 17,
   "id": "0cedb63b",
   "metadata": {},
   "outputs": [],
   "source": [
    "# creating an empty list to populate with the artist names except instead of a space using a + sign to make it possible to\n",
    "# search for the artists in the Spotify API\n",
    "artistMusicReq = []\n",
    "# iterating through the artists in the artistMusic list\n",
    "for artist in artistMusic:\n",
    "    # replacing the artist name spaces with + signs. The reason being is that in order to search for an artist, you must search\n",
    "    # for each part of their name without spaces in order for the request to function properly\n",
    "    artist = artist.replace(' ','+')\n",
    "    # appending the newly replaced artists to the artistMusicReq list\n",
    "    artistMusicReq.append(artist)"
   ]
  },
  {
   "cell_type": "code",
   "execution_count": 18,
   "id": "12b4fc98",
   "metadata": {},
   "outputs": [],
   "source": [
    "# creating an empty list to populate with the artists that I searched for from the music csv file\n",
    "musicArtistsCall = []\n",
    "# iterating through the artists in the artistMusicReq list\n",
    "for artist in artistMusicReq:\n",
    "    # requesting the artists that match the names in the artistMusicReq list and appending them to the musicArtistsCall list\n",
    "    musicArtistsCall.append(requests.get(baseURL + 'search?q=' + artist + '&type=artist', headers=headers).json())"
   ]
  },
  {
   "cell_type": "code",
   "execution_count": 19,
   "id": "f83f72eb",
   "metadata": {},
   "outputs": [],
   "source": [
    "# creating an empty list to populate with the IDs of the artists we found in the musicArtistsCall\n",
    "musicIDs = []\n",
    "# iterating through the artists in the musicArtistsCall list\n",
    "for artist in musicArtistsCall:\n",
    "    # finding the artist items that do not equal an empty list\n",
    "    if artist['artists']['items'] != []:\n",
    "        # appending the artist IDs to the musicIDs list\n",
    "        musicIDs.append(artist['artists']['items'][0]['id'])"
   ]
  },
  {
   "cell_type": "code",
   "execution_count": 20,
   "id": "45ff7b11",
   "metadata": {},
   "outputs": [],
   "source": [
    "# creating an empty list to populate with the top songs from the artists found in the music csv file\n",
    "topSongsMusic = []\n",
    "# iterating through the artistIDs in the musicIDs list\n",
    "for artistID in musicIDs:\n",
    "    # requesting the artists' top tracks and appending them to the topSongsMusic list\n",
    "    topSongsMusic.append(requests.get(baseURL + 'artists/' + artistID + '/top-tracks?market=ES', headers=headers).json())"
   ]
  },
  {
   "cell_type": "code",
   "execution_count": 21,
   "id": "c6013899",
   "metadata": {},
   "outputs": [],
   "source": [
    "# creating an empty list to populate with the songs for the playlist from the music csv artists and their top songs on Spotify\n",
    "musicSongsForPlaylist = []\n",
    "# iterating through the artists in the topSongsMusic list\n",
    "for artist in topSongsMusic:\n",
    "    # appending the artists' top tracks to the musicSongsForPlaylist list\n",
    "    musicSongsForPlaylist.append(artist['tracks'])\n",
    "# creating an empty list to populate with the top songs from the artists in the music csv file    \n",
    "musicSongList = []\n",
    "# creating an empty list to populate with the artist names from the music csv file\n",
    "musicArtistNameList = []\n",
    "# creating an empty dictionary to populate with the artist songs and names as key value pairs\n",
    "musicSongAndArtist = {}\n",
    "# iterating through the songs in the musicSongsForPlaylist list\n",
    "for song in musicSongsForPlaylist:\n",
    "    # finding where the song is not equal to the value of an empty list\n",
    "    if song != []:\n",
    "        # appending the song name to the musicSongList\n",
    "        musicSongList.append(song[0]['name'])\n",
    "        # appending the artist name to the musicArtistNameList\n",
    "        musicArtistNameList.append(song[0]['album']['artists'][0]['name'])\n",
    "        # setting the keys of the musicSongAndArtistDictionary equal to the song name and the values equal to the artist name\n",
    "        musicSongAndArtist[song[0]['name']] = song[0]['album']['artists'][0]['name']"
   ]
  },
  {
   "cell_type": "code",
   "execution_count": 22,
   "id": "562144a4",
   "metadata": {},
   "outputs": [],
   "source": [
    "# updating the songAndArtist playlist with the musicSongAndArtist songs and artists as well\n",
    "songAndArtist.update(musicSongAndArtist)"
   ]
  },
  {
   "cell_type": "markdown",
   "id": "e2c1d4eb",
   "metadata": {},
   "source": [
    "# Common Word List txt file pull and Spotify Chosen Playlist pull"
   ]
  },
  {
   "cell_type": "code",
   "execution_count": 23,
   "id": "5f5f590b",
   "metadata": {},
   "outputs": [],
   "source": [
    "# This list of common words is found here: https://gist.github.com/deekayen/4148741\n",
    "# importing csv to open the CommonWordList txt file\n",
    "import csv\n",
    "# importing re to use regex to replace any non word or space character with a space\n",
    "import re\n",
    "# setting commonWordList equal to an empty string to populate with the rows of the common word list text file\n",
    "commonWordList = ''\n",
    "# opening the CommonWordList txt file\n",
    "with open('CommonWordList.txt','r') as commonWords:\n",
    "    # reading the file\n",
    "    wordReader = csv.reader(commonWords)\n",
    "    # iterating through the rows in wordReader\n",
    "    for row in wordReader:\n",
    "        # setting the row equal to a string\n",
    "        row = str(row)\n",
    "        # making the empty string commonWordList += the rows it is iterating through\n",
    "        commonWordList += row\n",
    "        # adding an empty string after each word so that there is a space between each word\n",
    "        commonWordList += ''\n",
    "# use regex to replace any non word or space character with a space (^ means not, \\w means word character, and \\s means \n",
    "# space character so the entire string is saying any NON (^) word character (\\w) or space (\\s), replace with a space)\n",
    "commonWordList = re.sub('[^\\w\\s]',' ',commonWordList)\n",
    "# splitting the string on spaces to create a list of each individual word as an individual element of the list\n",
    "commonWordList = commonWordList.split()"
   ]
  },
  {
   "cell_type": "code",
   "execution_count": 24,
   "id": "548acd26",
   "metadata": {},
   "outputs": [],
   "source": [
    "# setting a variable equal to pulling the playlist associated with the user's chosen genre \n",
    "chosenPlaylist = requests.get(baseURL + 'playlists/' + chosenPlaylistID + '/tracks',headers=headers).json()"
   ]
  },
  {
   "cell_type": "code",
   "execution_count": 25,
   "id": "83d85295",
   "metadata": {},
   "outputs": [],
   "source": [
    "# creating an empty list to populate with the song names of the user's chosen playlist\n",
    "chosenMusic = []\n",
    "# creating an empty list to populate with the artist names of the user's chosen playlist\n",
    "chosenArtists = []\n",
    "# creating an empty list to populate with the song name and artist of the user's chosen playlist as key,value pairs\n",
    "chosenSongAndArtist = {}\n",
    "# iterating through the songs in the chosen playlist\n",
    "for song in chosenPlaylist['items']:\n",
    "    # finding where the track does not equal None\n",
    "    if song['track'] != None:\n",
    "        # appending the song names to the chosenMusic list\n",
    "        chosenMusic.append(song['track']['name'])\n",
    "        # appending the artist names to the chosenArtist list\n",
    "        chosenArtists.append(song['track']['artists'][0]['name'])\n",
    "        # setting the keys of chosenSongAndArtist equal to the song name and the values equal to the corresponding artist\n",
    "        chosenSongAndArtist[song['track']['name']] = song['track']['artists'][0]['name']\n",
    "# creating an empty list to populate with the chosen songs\n",
    "chosenSongs = []\n",
    "# iterating through the songs in the chosenMusic list\n",
    "for song in chosenMusic:\n",
    "    # iterating through the words in the commonWordList list\n",
    "    for word in commonWordList:\n",
    "        # finding if the word is in the song\n",
    "        if word in song:\n",
    "            # if it is, append the song to the chosenSongs list\n",
    "            chosenSongs.append(song)\n",
    "# set the chosenSongs equal to the set version of the list to remove duplicates\n",
    "chosenSongs = set(chosenSongs)\n",
    "# set it back to the list to make iterating possible\n",
    "chosenSongs = list(chosenSongs)"
   ]
  },
  {
   "cell_type": "code",
   "execution_count": 26,
   "id": "f60a2056",
   "metadata": {},
   "outputs": [],
   "source": [
    "# update the songAndArtist dictionary with the chosenSongAndArtist dictionary\n",
    "songAndArtist.update(chosenSongAndArtist)"
   ]
  },
  {
   "cell_type": "code",
   "execution_count": 27,
   "id": "933697a7",
   "metadata": {},
   "outputs": [
    {
     "name": "stdout",
     "output_type": "stream",
     "text": [
      "Song name: Moving On\n",
      "Artist: Sarah and the Sundays\n",
      "Song name: Strong\n",
      "Artist: London Grammar\n",
      "Song name: Hey, Ma - triple j Like A Version\n",
      "Artist: The Vanns\n",
      "Song name: Hotel in Minsk\n",
      "Artist: jonatan leandoer96\n",
      "Song name: After School Sad Session\n",
      "Artist: Nadhif Basalamah\n",
      "Song name: Yer Killin' Me\n",
      "Artist: Remo Drive\n",
      "Song name: Brazil\n",
      "Artist: Declan McKenna\n",
      "Song name: Hands On Ya Knees (feat. Kevin Gates)\n",
      "Artist: Renni Rucci\n",
      "Song name: You Are the Woman\n",
      "Artist: Firefall\n",
      "Song name: Little Ladder to Heaven\n",
      "Artist: Chris Lynch\n",
      "Song name: I Love Being Tired\n",
      "Artist: Noah Chenfeld\n",
      "Song name: Lou's Tune\n",
      "Artist: DARGZ\n",
      "Song name: Drunk And Nasty (feat. Sharc)\n",
      "Artist: Pi’erre Bourne\n",
      "Song name: Girls In Bikinis\n",
      "Artist: Poppy\n",
      "Song name: >one - greater than one\n",
      "Artist: VALORANT\n",
      "Song name: Orpheus Under the Influence\n",
      "Artist: The Buttertones\n",
      "Song name: Greek Tragedy - Oliver Nelson TikTok Remix\n",
      "Artist: The Wombats\n",
      "Song name: Televised\n",
      "Artist: HUNNY\n",
      "Song name: Faded\n",
      "Artist: Crypto\n",
      "Song name: When I Get Home\n",
      "Artist: Post Animal\n",
      "Song name: It's Real\n",
      "Artist: Real Estate\n",
      "Song name: Falling for U\n",
      "Artist: Peachy!\n",
      "Song name: Horizon\n",
      "Artist: Czarina Frost\n",
      "Song name: Jewelry Store - Jewelry Store\n",
      "Artist: The Capitol Years\n",
      "Song name: As Good As You\n",
      "Artist: Far Too Jones\n",
      "Song name: The Heat, the Hot, and the Hard Luck Swill\n",
      "Artist: JennyAnyKind\n",
      "Song name: Looked Up To You\n",
      "Artist: Craig Wedren\n",
      "Song name: Looking Too Closely\n",
      "Artist: Fink\n",
      "Song name: Love Lost\n",
      "Artist: Mac Miller\n",
      "Song name: I'm Yours\n",
      "Artist: Jason Mraz\n",
      "Song name: Brave Captain\n",
      "Artist: fIREHOSE\n",
      "Song name: Succotash\n",
      "Artist: Claw Hammer\n",
      "Song name: 1979 - Remastered 2012\n",
      "Artist: The Smashing Pumpkins\n",
      "Song name: Basket Case\n",
      "Artist: Green Day\n",
      "Song name: Never Let You Go\n",
      "Artist: Junie Graziano\n",
      "Song name: O.C. Life\n",
      "Artist: Rikk Agnew\n",
      "Song name: La vie en rose\n",
      "Artist: Daniel Colin\n",
      "Song name: Don't Wanna Be Here\n",
      "Artist: Cool For August\n",
      "Song name: True Thang\n",
      "Artist: Bomb Squad\n",
      "Song name: Fusion\n",
      "Artist: Cool Cavemen\n",
      "Song name: La Que Me Gusta\n",
      "Artist: Los Amigos Invisibles\n",
      "Song name: No More Lies\n",
      "Artist: Thundercat\n",
      "Song name: Ribs\n",
      "Artist: Rachel Chinouriri\n",
      "Song name: labour\n",
      "Artist: Paris Paloma\n",
      "Song name: Couldn’t Make It Up\n",
      "Artist: Ben Howard\n",
      "Song name: Blades\n",
      "Artist: Arlo Parks\n",
      "Song name: The Alcott (feat. Taylor Swift)\n",
      "Artist: The National\n",
      "Song name: Not Strong Enough\n",
      "Artist: boygenius\n",
      "Song name: Nothing Matters\n",
      "Artist: The Last Dinner Party\n",
      "Song name: Good News\n",
      "Artist: Bakar\n",
      "Song name: Boyhood\n",
      "Artist: The Japanese House\n",
      "Song name: WORTHLESS\n",
      "Artist: d4vd\n",
      "Song name: Mermaids\n",
      "Artist: Florence + The Machine\n",
      "Song name: Silent Running (feat. Adeleye Omotayo)\n",
      "Artist: Gorillaz\n",
      "Song name: Just To Keep You Satisfied\n",
      "Artist: Inhaler\n",
      "Song name: Seaforth\n",
      "Artist: King Krule\n",
      "Song name: Widows\n",
      "Artist: Matt Maltese\n",
      "Song name: Give It Up To Love\n",
      "Artist: Somebody's Child\n",
      "Song name: It’s Euphoric\n",
      "Artist: Georgia\n",
      "Song name: Chaise Longue\n",
      "Artist: Wet Leg\n",
      "Song name: To Rage\n",
      "Artist: Daughter\n",
      "Song name: The Score\n",
      "Artist: Grian Chatten\n",
      "Song name: Your Mind Is Not Your Friend (feat. Phoebe Bridgers)\n",
      "Artist: The National\n",
      "Song name: To Love\n",
      "Artist: Suki Waterhouse\n",
      "Song name: After Midnight (feat. Clairo)\n",
      "Artist: Phoenix\n",
      "Song name: Psychopath\n",
      "Artist: Another Sky\n",
      "Song name: Bones\n",
      "Artist: Deyaz\n",
      "Song name: Over\n",
      "Artist: CHVRCHES\n",
      "Song name: In The Moment\n",
      "Artist: Gengahr\n",
      "Song name: Change\n",
      "Artist: LAUREL\n",
      "Song name: God Above\n",
      "Artist: Billie Marten\n",
      "Song name: Wings Of Time - From the Motion Picture Dungeons & Dragons: Honor Among Thieves\n",
      "Artist: Tame Impala\n",
      "Song name: Call Me What You Like\n",
      "Artist: Lovejoy\n",
      "Song name: Troubled Son\n",
      "Artist: Miles Kane\n",
      "Song name: This World Couldn’t See Us\n",
      "Artist: Nabihah Iqbal\n",
      "Song name: Oh No Darling!\n",
      "Artist: Sarah Kinsley\n",
      "Song name: Honey\n",
      "Artist: Samia\n",
      "Song name: Window\n",
      "Artist: spill tab\n",
      "Song name: Salad\n",
      "Artist: Blondshell\n",
      "Song name: Going Kokomo\n",
      "Artist: Royel Otis\n",
      "Song name: atomic\n",
      "Artist: Aziya\n",
      "Song name: A Song About Me\n",
      "Artist: Oscar Lang\n",
      "Song name: Last Together\n",
      "Artist: Vistas\n",
      "Song name: Don't Let Me Down\n",
      "Artist: Gus Dapperton\n",
      "Song name: Lucky Bean\n",
      "Artist: The Lathums\n",
      "Song name: DONTLEAVEMYSIDE\n",
      "Artist: Ray Laurél\n",
      "Song name: Pick\n",
      "Artist: Fenne Lily\n",
      "Song name: James Dean\n",
      "Artist: Tash Sultana\n",
      "Song name: Bleed\n",
      "Artist: Ezra Williams\n",
      "Song name: can we change the subject?\n",
      "Artist: re6ce\n",
      "Song name: In My Head\n",
      "Artist: Nell Mescal\n",
      "Song name: Forever\n",
      "Artist: DMA'S\n",
      "Song name: I Think My Heart Is Set On You\n",
      "Artist: Lemonade Shoelace\n",
      "Song name: King of Nothing\n",
      "Artist: Gretel Hänlyn\n",
      "Song name: like that\n",
      "Artist: Sfven\n",
      "Song name: Little Sister\n",
      "Artist: Willie J Healey\n"
     ]
    }
   ],
   "source": [
    "# THIS CELL IS SIMPLY TO SHOW THE USER THE SONGS AND ARTISTS THAT WILL BE IN THEIR CSV FILE\n",
    "# iterate through the songs and their artists within the songAndArtist items\n",
    "for song,artist in songAndArtist.items():\n",
    "    # print the song name\n",
    "    print('Song name: ' + str(song))\n",
    "    # print the artist\n",
    "    print('Artist: ' + str(artist))"
   ]
  },
  {
   "cell_type": "code",
   "execution_count": 28,
   "id": "2e40b512",
   "metadata": {},
   "outputs": [],
   "source": [
    "# creating a dataframe equal to the songAndArtist dictionary items and creating the column titles 'Song' and 'Artist'\n",
    "songAndArtistDF = pd.DataFrame(songAndArtist.items(),columns=['Song','Artist'])\n",
    "# writing the dataframe to a csv file called 'PythonPlaylist_{users spotify name}' with no index\n",
    "songAndArtistDF.to_csv('PythonPlaylist_' + SpotifyUsername + '.csv',index=False)"
   ]
  },
  {
   "cell_type": "markdown",
   "id": "ac81f442",
   "metadata": {},
   "source": [
    "## Your playlist is complete! Please see your playlist within your current working directory under the title 'PythonPlaylist_YourSpotifyUsername.csv'"
   ]
  },
  {
   "cell_type": "markdown",
   "id": "6d2ad592",
   "metadata": {},
   "source": [
    "# Visualizations\n",
    "\n",
    "My first visualization is the graph of the most common genres of the user's similar artists. I thought it would be interesting to know how much people know about their own music taste. I pulled the similar artists' genres from their spotify accounts to see what genres their music actually falls into.\n",
    "\n",
    "My second and third visualizations are the 10 least popular and 10 most popular artists that fall within the user's similar artists. These graphs reflect the disparity in popularity and genre. \n",
    "\n",
    "Here is what I found:"
   ]
  },
  {
   "cell_type": "code",
   "execution_count": 29,
   "id": "cc7c38ac",
   "metadata": {},
   "outputs": [
    {
     "name": "stdout",
     "output_type": "stream",
     "text": [
      "The user selected alternative rock, funk rock, and indie as their favorite types of music.\n",
      "The user selected indie as their all time favorite genre. Here are the genres of music they actually listen to.\n"
     ]
    },
    {
     "data": {
      "text/plain": [
       "<seaborn.axisgrid.FacetGrid at 0x12e535c0fd0>"
      ]
     },
     "execution_count": 29,
     "metadata": {},
     "output_type": "execute_result"
    },
    {
     "data": {
      "image/png": "[encoded data removed]",
      "text/plain": [
       "<Figure size 1080x360 with 1 Axes>"
      ]
     },
     "metadata": {
      "needs_background": "light"
     },
     "output_type": "display_data"
    }
   ],
   "source": [
    "# create an empty list to populate with the genres that the user listens to most\n",
    "visualizeGenres = []\n",
    "# create an empty dictionary to populate with the genres the artist listens to and their counts of instances\n",
    "genreCounts = {}\n",
    "# create an empty dictionary to populate with the most frequent genres the artist listens to\n",
    "genreCountsMax = {}\n",
    "# iterate through the artists in similarArtists\n",
    "for artist in similarArtists:\n",
    "    # find where the artists do not equal an empty list\n",
    "    if artist['artists'] != []:\n",
    "        # find where the genres do not equal an empty list\n",
    "        if artist['artists'][0]['genres'] != []:\n",
    "            # append the genres to the visualizeGenres list\n",
    "            visualizeGenres.append(artist['artists'][0]['genres'][0])\n",
    "# iterate through the genres in the visualizeGenres list\n",
    "for genre in visualizeGenres:\n",
    "    # if the genre already exists within the genreCounts list, add one to its value\n",
    "    if genre in genreCounts:\n",
    "        genreCounts[genre] += 1\n",
    "    # if it does not already exist, make its value one\n",
    "    else:\n",
    "        genreCounts[genre] = 1\n",
    "# iterate through the keys and values within the genreCounts items\n",
    "for genre,count in genreCounts.items():\n",
    "    # find where the value count is greater than 2\n",
    "    if count > 2:\n",
    "        # append the genre and its count to the genreCountsMax dictionary as key value pairs\n",
    "        genreCountsMax[genre] = count\n",
    "# make a dataframe from the genreCountsMax dictionary items and make the column names 'Genre' and 'Count'\n",
    "genreCountsMaxDF = pd.DataFrame(genreCountsMax.items(),columns=['Genre','Count'])\n",
    "# import seaborn to create a plot of the genres versus their counts\n",
    "import seaborn as sb\n",
    "# print the three types of music the user selected as their favorite\n",
    "print('The user selected ' + favTypeOfMusic1 + ', ' + favTypeOfMusic2 + ', and ' + favTypeOfMusic3 + ' as their favorite types of music.')\n",
    "# print the user's all time favorite genre\n",
    "print('The user selected ' + favGenreOfMusic + ' as their all time favorite genre. Here are the genres of music they actually listen to.')\n",
    "# create a plot using sb.catplot of the genres along the x axis and their counts along the y axis. Rotate the xticklabels so\n",
    "# that the names of the genres do not overlap. set the aspect to 3 so that the graph is large and easy to see.\n",
    "genreSpread = sb.catplot(x=\"Genre\",y=\"Count\",data=genreCountsMaxDF,kind=\"bar\",aspect=3).set_xticklabels(rotation=90)\n",
    "genreSpread"
   ]
  },
  {
   "cell_type": "code",
   "execution_count": 30,
   "id": "0f01d02a",
   "metadata": {},
   "outputs": [
    {
     "data": {
      "text/plain": [
       "<seaborn.axisgrid.FacetGrid at 0x12e53e20a00>"
      ]
     },
     "execution_count": 30,
     "metadata": {},
     "output_type": "execute_result"
    },
    {
     "data": {
      "image/png": "[encoded data removed]",
      "text/plain": [
       "<Figure size 1080x360 with 1 Axes>"
      ]
     },
     "metadata": {
      "needs_background": "light"
     },
     "output_type": "display_data"
    }
   ],
   "source": [
    "# create an empty dictionary to populate with artist name and popularity score as key,value pairs\n",
    "artistPopularity = {}\n",
    "# iterate through the artists in similarArtists\n",
    "for artist in similarArtists:\n",
    "    # find where artist['artists'] is not equal to an empty list value\n",
    "    if artist['artists'] != []:\n",
    "        # make the artistPopularity keys the names of the artists and the values the popularity scores\n",
    "        artistPopularity[artist['artists'][0]['name']] = artist['artists'][0]['popularity']\n",
    "# ***I took the import sortdictionary from the sortdictionary.py file found under the 'Homework' section of our modules\n",
    "import sortdictionary\n",
    "# create a new dictionary equal to your sorted dictionary in descending order\n",
    "sortedartistPopularity = sortdictionary.sortDictionaryByValues(artistPopularity,ascending=False)\n",
    "# create a dataframe containing the items from your sorted dictionary with the column names being 'Artist' and 'Popularity'\n",
    "artistPopularityDF = pd.DataFrame(sortedartistPopularity.items(),columns=['Artist','Popularity'])\n",
    "# create a leastPopularDF and set it equal to the last 10 rows in your dataframe (.tail(10))\n",
    "leastPopularDF = artistPopularityDF.tail(10)\n",
    "# create a mostPopularDf and se4t it equal to the first 10 rows in your dataframe (.head(10))\n",
    "mostPopularDF = artistPopularityDF.head(10)\n",
    "# create a plot using sb.catplot and set the x values equal to artist, the y values equal to popularity score, the data equal\n",
    "# to your least popular dataframe, the aspect set to 3 for better visualization, and rotate the xticklabels 90 degrees for \n",
    "# readability. Then set your title equal to 'Least Popular Artists'\n",
    "leastPopular = sb.catplot(x=\"Artist\",y=\"Popularity\",data=leastPopularDF,kind=\"bar\",aspect=3).set_xticklabels(rotation=90).set(title='Least Popular Artists')\n",
    "# call the plot\n",
    "leastPopular"
   ]
  },
  {
   "cell_type": "code",
   "execution_count": 31,
   "id": "667f4444",
   "metadata": {},
   "outputs": [
    {
     "data": {
      "text/plain": [
       "<seaborn.axisgrid.FacetGrid at 0x12e544b1d90>"
      ]
     },
     "execution_count": 31,
     "metadata": {},
     "output_type": "execute_result"
    },
    {
     "data": {
      "image/png": "[encoded data removed]",
      "text/plain": [
       "<Figure size 1080x360 with 1 Axes>"
      ]
     },
     "metadata": {
      "needs_background": "light"
     },
     "output_type": "display_data"
    }
   ],
   "source": [
    "# create a plot using sb.catplot and set the x values equal to artist, the y values equal to popularity score, the data equal\n",
    "# to your most popular dataframe, the aspect set to 3 for better visualization, and rotate the xticklabels 90 degrees for \n",
    "# readability. Then set your title equal to 'Most Popular Artists'\n",
    "mostPopular = sb.catplot(x=\"Artist\",y=\"Popularity\",data=mostPopularDF,kind=\"bar\",aspect=3).set_xticklabels(rotation=90).set(title='Most Popular Artists')\n",
    "# call the plot\n",
    "mostPopular"
   ]
  },
  {
   "cell_type": "markdown",
   "id": "79a0e2e5",
   "metadata": {},
   "source": [
    "# Writeup\n",
    "\n",
    "**The scope of my project was to curate a Spotify playlist based upon the user's favorite genres and similar artists to the artists they already listen to within Spotify**. My program uses the Spotify API to take the artists of those songs, find similar artists, and add their top songs to the playlist. Similar artists pulls will vary each time the program is written so, if you wanted, you could run the program multiple times and get a slightly different playlist each time. This code also uses a music.csv file containing artists from all different decades and different genres. **As a part of the project, the user selects their top three genres and will get a list of artists from those genres from the music.csv file**. My program will then search through Spotify for those artists and find their top songs. The third and final pull of my program incorporates an already made Spotify playlist and a common word list text file to add the final songs to the playlist. My idea behind this was to incorporate a slightly more fun/less algorithmic approach to adding songs so that the user was able to slightly branch out of their normal music taste. I ask the user to input their favorite genre, then the playlist that I pull is one with music only from that genre. I then compare the title of the songs to the common word list and if the words exist in both the title and the common word list, I add that song to the playlist. My final step in this project is to export the playlist of songs and their artists to a csv file called 'PythonPlaylist.csv' that will be stored in their current working directory. \n",
    "\n",
    "My project plan initially included two different types of data: a list of artists that performed at a theater in Boulder in 2022 and a text file of lyrics to my favorite song. My goal for the list of artists was to iterate through the genres of these artists and if they matched one of my top three favorite genres, I would pull their top songs and add them to the playlist. I decided against this route because I could not find a public dataset containing said list of artists, and decided that pulling music from many different decades would create a more diverse playlist for myself and other users. My idea for the text file of lyrics to my favorite song was to pull the lyrics, remove the words that were in the common words list csv, then find the most frequent uncommon word in the song. I would then search through Spotify and find 10 songs that have a high frequency of this word as well and add them to my playlist. I was originally deterred from this because I discovered that the word 'maybe' was not in the common word list, so I did not have faith in the originality of words. I was also turned away from this idea because common uncommon words do not dictate a similar music style and I did not believe that this would fit with the goal of my program. Finally, I was turned away from this because the Spotify API does not have a way to use song lyrics to find a song. Instead of doing this, I decided to use the already created Spotify genre playlists and my common words list to add additional songs to my playlist. \n",
    "\n",
    "The results of this project were definitely better than I expected, but as I continued on, I found myself disappointed. I was able to push myself to write code that I was not as comfortable with; but once I overcame that initial push, I was disappointed that I could not do more. I was delighted with the success of the project up until the very end. My code ran beautifully, the playlists that were outputted were wholly geared towards my music taste (as well as my roommates music taste, whose Spotify and music taste information I used to curate a playlist for her). The only thing that I could not accomplish - which, to me, is arguably the most important part of this project - was uploading the created playlists to Spotify. After sifting through pages and pages of documentation, I attempted to use a json 'post' request to allow me to create a new playlist on my Spotify account. I quickly came to realize that my request was always 'not found', and the 404 error codes were disappointing. \n",
    "\n",
    "What I am pleasantly surprised about was how well I knew my music taste. I found through my visualizations that my favorite genres that I manually input into the program happened to fall almost seamlessly within the categories that were depicted in my first visualization. Interestingly enough, the '2022 Spotify Wrapped' showing my top five most played genres came out prior to my completion of this project, and my most common genres were all either exactly my most played genres or fell within subcategories of those genres. It was very appealing to see how well the algorithm of my program tailored to my music taste. Overall, the results of this project were fairly close to what I had expected, and I am very excited to have new music to add to my Spotify account.\n",
    "\n",
    "If I were to continue to work on this project, I would add more genres to the list of genres the user may input into the program and I would figure out how to actually post the playlist to Spotify. The genres I chose for the user to pick from are limited due to the timeframe I had to complete this project, and I know that those genres are not everyone's cup of tea. If I had more time, I would alter my program to be able to accept all music genres and subgenres. My inability to post the playlist to Spotify has everything to do with lack of time and experience, and if I had more of both, I would be able to post the playlist to Spotify. If the user's end goal was to actually curate the playlist and add it to their Spotify account (which is my goal), using the csv file and copying every single song into Spotify makes this a very time consuming process. "
   ]
  }
 ],
 "metadata": {
  "kernelspec": {
   "display_name": "Python 3 (ipykernel)",
   "language": "python",
   "name": "python3"
  },
  "language_info": {
   "codemirror_mode": {
    "name": "ipython",
    "version": 3
   },
   "file_extension": ".py",
   "mimetype": "text/x-python",
   "name": "python",
   "nbconvert_exporter": "python",
   "pygments_lexer": "ipython3",
   "version": "3.9.12"
  }
 },
 "nbformat": 4,
 "nbformat_minor": 5
}
